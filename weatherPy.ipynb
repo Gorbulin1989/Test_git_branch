
# Dependencies and Setup
import pandas as pd
import requests
import cartopy.crs as ccrs
import hvplot.pandas
import chardet

# Import API key
from api_keys import geoapify_key
# Load the CSV file created in Part 1 into a Pandas DataFrame
city_data_df = pd.read_csv("../WeatherPy//cities.csv")

# Display sample data
city_data_df.head()

# Configure the map plot
map_plot = city_data_df.hvplot.points('Lng', 'Lat',label="City", geo=True, tiles='OSM')
# Display the map
map_plot


